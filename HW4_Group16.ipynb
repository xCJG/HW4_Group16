{
 "cells": [
  {
   "cell_type": "code",
   "execution_count": 1,
   "id": "52e4c683-3110-4088-b421-72ae236d06b2",
   "metadata": {},
   "outputs": [
    {
     "name": "stderr",
     "output_type": "stream",
     "text": [
      "/tmp/ipykernel_26599/1645648429.py:12: UserWarning: Could not infer format, so each element will be parsed individually, falling back to `dateutil`. To ensure parsing is consistent and as-expected, please specify a format.\n",
      "  traffic_data['Date'] = pd.to_datetime(traffic_data['Date'])\n"
     ]
    },
    {
     "data": {
      "text/plain": [
       "{'LinearRegression': {'Best Score': -787963.9539958232, 'Best Alpha': None},\n",
       " 'Lasso': {'Best Score': -785162.5410673141, 'Best Alpha': 45.34878508128591},\n",
       " 'Ridge': {'Best Score': -787783.1320172554, 'Best Alpha': 1.9179102616724888}}"
      ]
     },
     "execution_count": 1,
     "metadata": {},
     "output_type": "execute_result"
    }
   ],
   "source": [
    "import pandas as pd\n",
    "import numpy as np\n",
    "from sklearn.model_selection import RandomizedSearchCV, cross_val_score, KFold\n",
    "from sklearn.linear_model import LinearRegression, Lasso, Ridge\n",
    "from sklearn.preprocessing import StandardScaler\n",
    "from sklearn.pipeline import Pipeline\n",
    "from sklearn.impute import SimpleImputer\n",
    "\n",
    "weather_data = pd.read_csv('BicycleWeather.csv')\n",
    "traffic_data = pd.read_csv('FremontBridge.csv')\n",
    "\n",
    "traffic_data['Date'] = pd.to_datetime(traffic_data['Date'])\n",
    "traffic_data['Date'] = traffic_data['Date'].dt.date  # Keep only the date part for daily aggregation\n",
    "traffic_data['Total Traffic'] = traffic_data['Fremont Bridge East Sidewalk'] + traffic_data['Fremont Bridge West Sidewalk']\n",
    "daily_traffic = traffic_data.groupby('Date')['Total Traffic'].sum().reset_index()\n",
    "\n",
    "weather_data['DATE'] = pd.to_datetime(weather_data['DATE'], format='%Y%m%d')\n",
    "weather_data['DATE'] = weather_data['DATE'].dt.date  # Keep only the date part\n",
    "\n",
    "merged_data = pd.merge(daily_traffic, weather_data, left_on='Date', right_on='DATE', how='inner')\n",
    "\n",
    "merged_data.replace(-9999, np.nan, inplace=True)\n",
    "\n",
    "features = ['PRCP', 'SNWD', 'SNOW', 'TMAX', 'TMIN', 'AWND']\n",
    "X = merged_data[features]\n",
    "y = merged_data['Total Traffic']\n",
    "\n",
    "pipelines = {\n",
    "    'LinearRegression': Pipeline([('imputer', SimpleImputer(strategy='mean')), ('scaler', StandardScaler()), \n",
    "                                  ('model', LinearRegression())]),\n",
    "    'Lasso': Pipeline([('imputer', SimpleImputer(strategy='mean')), ('scaler', StandardScaler()), \n",
    "                       ('model', Lasso())]),\n",
    "    'Ridge': Pipeline([('imputer', SimpleImputer(strategy='mean')), ('scaler', StandardScaler()), \n",
    "                       ('model', Ridge())])\n",
    "}\n",
    "\n",
    "param_distributions = {\n",
    "    'Lasso': {'model__alpha': np.logspace(-4, 4, 100)},\n",
    "    'Ridge': {'model__alpha': np.logspace(-4, 4, 100)}\n",
    "}\n",
    "\n",
    "cv = KFold(n_splits=10, shuffle=True, random_state=42)\n",
    "results = {}\n",
    "\n",
    "# Perform cross-validation and parameter tuning\n",
    "for model_name, pipeline in pipelines.items():\n",
    "    if model_name in ['Lasso', 'Ridge']:\n",
    "        search = RandomizedSearchCV(pipeline, param_distributions[model_name], n_iter=20, cv=cv, \n",
    "                                    scoring='neg_mean_squared_error', random_state=42)\n",
    "        search.fit(X, y)\n",
    "        best_score = search.best_score_\n",
    "        best_alpha = search.best_params_['model__alpha']\n",
    "        results[model_name] = {'Best Score': best_score, 'Best Alpha': best_alpha}\n",
    "    else:\n",
    "        scores = cross_val_score(pipeline, X, y, cv=cv, scoring='neg_mean_squared_error')\n",
    "        results[model_name] = {'Best Score': scores.mean(), 'Best Alpha': None}\n",
    "\n",
    "results\n"
   ]
  },
  {
   "cell_type": "code",
   "execution_count": null,
   "id": "7742c185-b03d-4168-8131-3ed369e6f531",
   "metadata": {},
   "outputs": [],
   "source": []
  }
 ],
 "metadata": {
  "kernelspec": {
   "display_name": "Python 3 (ipykernel)",
   "language": "python",
   "name": "python3"
  },
  "language_info": {
   "codemirror_mode": {
    "name": "ipython",
    "version": 3
   },
   "file_extension": ".py",
   "mimetype": "text/x-python",
   "name": "python",
   "nbconvert_exporter": "python",
   "pygments_lexer": "ipython3",
   "version": "3.8.10"
  }
 },
 "nbformat": 4,
 "nbformat_minor": 5
}
